{
 "cells": [
  {
   "cell_type": "markdown",
   "id": "4bab3462",
   "metadata": {},
   "source": [
    "# Environment Setup"
   ]
  },
  {
   "cell_type": "code",
   "execution_count": null,
   "id": "090886f1",
   "metadata": {},
   "outputs": [],
   "source": [
    "#!pip install gym_super_mario_bros\n",
    "#!pip install stable_baselines3"
   ]
  },
  {
   "cell_type": "code",
   "execution_count": null,
   "id": "b62c1688",
   "metadata": {},
   "outputs": [],
   "source": [
    "# PPO algorythm\n",
    "from stable_baselines3 import PPO\n",
    "# Eval policy method for metric calculation\n",
    "from stable_baselines3.common.evaluation import evaluate_policy\n",
    "# Monitor for logging \n",
    "from stable_baselines3.common.monitor import Monitor\n",
    "# Vec wrappers to vectorize and frame stack\n",
    "from stable_baselines3.common.vec_env import DummyVecEnv, VecFrameStack\n",
    "# Import simpler movements\n",
    "from gym_super_mario_bros.actions import SIMPLE_MOVEMENT\n",
    "# Import to reduce number of movments\n",
    "from nes_py.wrappers import JoypadSpace\n",
    "# Import os to deal with filepaths\n",
    "import os"
   ]
  },
  {
   "cell_type": "code",
   "execution_count": null,
   "id": "e92489e3",
   "metadata": {},
   "outputs": [],
   "source": [
    "# Running Environment_Setup.ipynb to download ROM and setup custom Sonic environment.\n",
    "%run Environment_Setup.ipynb"
   ]
  },
  {
   "cell_type": "code",
   "execution_count": null,
   "id": "42102af7",
   "metadata": {},
   "outputs": [],
   "source": [
    "env = Mario()\n",
    "env = JoypadSpace(env, SIMPLE_MOVEMENT)\n",
    "env = Monitor(env)\n",
    "env = DummyVecEnv([lambda: env])\n",
    "env = VecFrameStack(env, 4, channels_order='last')"
   ]
  },
  {
   "cell_type": "markdown",
   "id": "0c13cfd6",
   "metadata": {},
   "source": [
    "# Testing Model"
   ]
  },
  {
   "cell_type": "code",
   "execution_count": null,
   "id": "66d4c186",
   "metadata": {},
   "outputs": [],
   "source": [
    "# train/old_gen/best_mario_PPO\n",
    "model = PPO.load('train/ton/Newestt_Mario_PPO')"
   ]
  },
  {
   "cell_type": "code",
   "execution_count": null,
   "id": "a83c479f",
   "metadata": {
    "scrolled": true
   },
   "outputs": [],
   "source": [
    "# Importing sleep to slow down game\n",
    "from time import sleep\n",
    "\n",
    "# Game\n",
    "obs = env.reset()\n",
    "result = 0 \n",
    "\n",
    "for i in range(47_000):\n",
    "    action, _ = model.predict(obs) \n",
    "    obs, reward, done, info = env.step(action)\n",
    "    result += reward\n",
    "    env.render()\n",
    "    if i % 200 == 0:\n",
    "        print(result)\n",
    "    #sleep(0.05)\n",
    "\n",
    "print(\"/nshape of screen = \", env.observation_space.sample().shape)\n",
    "print(\"information about environment = \", info)\n",
    "print(\"action space = \", env.action_space.sample())\n",
    "print(\"total score = \", result)"
   ]
  },
  {
   "cell_type": "code",
   "execution_count": null,
   "id": "2c5d23fe",
   "metadata": {},
   "outputs": [],
   "source": [
    "mean_reward, _ = evaluate_policy(model, env, n_eval_episodes=1, return_episode_rewards=False)"
   ]
  }
 ],
 "metadata": {
  "kernelspec": {
   "display_name": "Python 3 (ipykernel)",
   "language": "python",
   "name": "python3"
  },
  "language_info": {
   "codemirror_mode": {
    "name": "ipython",
    "version": 3
   },
   "file_extension": ".py",
   "mimetype": "text/x-python",
   "name": "python",
   "nbconvert_exporter": "python",
   "pygments_lexer": "ipython3",
   "version": "3.8.13"
  }
 },
 "nbformat": 4,
 "nbformat_minor": 5
}
